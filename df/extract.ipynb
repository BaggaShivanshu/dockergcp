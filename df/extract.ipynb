from google.cloud import language

import six

from google.cloud import datastore

datastore_client = datastore.Client()

# The kind for the new entity
kind = 'Topic'
# The name/ID for the new entity
name = 'confidential information'
# The Cloud Datastore key for the new entity
task_key = datastore_client.key(kind, name)

# Prepares the new entity
task = datastore.Entity(key=task_key)
task['action text'] = 'From time to time, employees of [THE ORGANIZATION] may come into contact with confidential information, including but not limited to information about [THE ORGANIZATION]’s members, suppliers, finances and business plans. Employees are required to keep any such matters that may be disclosed to them or learned by them confidential.'

# Saves the entity
datastore_client.put(task)

print('Saved {}: {}'.format(task.key.name, task['action text']))

datastore_client = datastore.Client()

# The kind for the new entity
kind = 'Synonym'
# The name/ID for the new entity
name = 'confidential information'
# The Cloud Datastore key for the new entity
task_key = datastore_client.key(kind, name)

# Prepares the new entity
task = datastore.Entity(key=task_key)
task['synonym'] = 'secret'

# Saves the entity
datastore_client.put(task)

print('Saved {}: {}'.format(task.key.name, task['synonym']))

client = datastore.Client()
query = client.query(kind='Synonym')
query.add_filter('synonym', '=', 'secret')
results = list(query.fetch())
print results[0].keys()[0]

client = language.Client()

text_content = ("""confidential information From time to time, employees of [THE ORGANIZATION] may come into contact with confidential information, including but not limited to information about [THE ORGANIZATION]’s members, suppliers, finances and business plans. Employees are required to keep any such matters that may be disclosed to them or learned by them confidential.""")
document = client.document_from_text(text_content)
entity_response = document.analyze_entities()
for entity in entity_response:
  print('=' * 20)
  print('         name: %s' % (entity.name.lower(),))
  print('         type: %s' % (entity.entity_type,))
  print('     metadata: %s' % (entity.metadata,))
  print('     salience: %s' % (entity.salience,))

#!pip install PyDictionary

from PyDictionary import PyDictionary
dictionary=PyDictionary()

dictionary.synonym('confidential')