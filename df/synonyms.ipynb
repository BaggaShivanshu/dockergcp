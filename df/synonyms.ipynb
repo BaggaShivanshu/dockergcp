# Only need to do this once...
!pip install inflect

# Only need to do this once...
import nltk
nltk.download('stopwords')
nltk.download('wordnet')

from nltk.corpus import stopwords
stop = set(stopwords.words('english'))

from google.cloud import datastore

datastore_client = datastore.Client()

client = datastore.Client()
query = client.query(kind='Topic')
results = list(query.fetch())

import inflect
plurals = inflect.engine()

from nltk.corpus import wordnet
from sets import Set

for result in results:
  for word in result.key.name.split():
    
    if word in stop:
        continue

    
    synonyms = Set()
    for syn in wordnet.synsets(word):
      
      if ".n." in str(syn):

        for l in syn.lemmas():
          lemma = l.name()
          if (lemma.isalpha()):
            synonyms.add(lemma)
            synonyms.add(plurals.plural(lemma))
      
      if ".a." in str(syn):
        synonyms = Set()
        break

    print result.key.name, word, synonyms
    
    kind = 'Synonym'
    synonym_key = datastore_client.key(kind, result.key.name)

    synonym = datastore.Entity(key=synonym_key)
    synonym['synonym'] = result.key.name

    datastore_client.put(synonym)
    
    synonym_key = datastore_client.key(kind, word)

    synonym = datastore.Entity(key=synonym_key)
    synonym['synonym'] = result.key.name

    datastore_client.put(synonym)
    
    for dictionary_synonym in synonyms:
      
      synonym_key = datastore_client.key(kind, dictionary_synonym)

      synonym = datastore.Entity(key=synonym_key)
      synonym['synonym'] = result.key.name

      datastore_client.put(synonym)
      
    synonym_key = datastore_client.key(kind, plurals.plural(word))

    synonym = datastore.Entity(key=synonym_key)
    synonym['synonym'] = result.key.name

    datastore_client.put(synonym)
    
from google.cloud import language
from google.cloud.language import enums
from google.cloud.language import types

for result in results:
  
  print result.key.name, '*'*5, result['action_text']
  
  client = language.LanguageServiceClient()

  #document = client.document_from_text(result['action text'])
  
  document = types.Document(
        content=result['action_text'],
        type=enums.Document.Type.PLAIN_TEXT)
  
  entities = client.analyze_entities(document).entities  

  # entity types from enums.Entity.Type
  entity_type = ('UNKNOWN', 'PERSON', 'LOCATION', 'ORGANIZATION',
                   'EVENT', 'WORK_OF_ART', 'CONSUMER_GOOD', 'OTHER')

  for entity in entities:
    if (entity_type[entity.type] != 'ORGANIZATION') and (entity.salience > 0.1):
      
      print('=' * 20)
      print('         name: %s' % (entity.name.lower()))
      print('         type: %s' % (entity_type[entity.type]))
      print('     salience: %s' % (entity.salience))
      
      kind = 'Synonym'
      synonym_key = datastore_client.key(kind, entity.name.lower())
      
      synonym = datastore.Entity(key=synonym_key)
      synonym['synonym'] = result.key.name

      datastore_client.put(synonym)