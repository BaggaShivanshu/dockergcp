!pip install --upgrade pip
!yes | pip uninstall dialogflow
!pip install dialogflow==0.3.0

from google.cloud import datastore

client = datastore.Client()
query = client.query(kind='Topic')
results = list(query.fetch())

import dialogflow

entity_types_client = dialogflow.EntityTypesClient()

project_id = !(gcloud config get-value project)

project_agent_path = entity_types_client.project_agent_path(
        project_id[0])

for element in entity_types_client.list_entity_types(project_agent_path):
  if (element.display_name == 'Topic'):
    entity_type_path = element.name

project_id = !(gcloud config get-value project)

entities = []

for result in results:
  
  entity = dialogflow.types.EntityType.Entity()
  entity.value = result.key.name
  entity.synonyms.append(result.key.name)

  entities.append(entity)

print entities

#entity.synonyms.extend(synonyms)

response = entity_types_client.batch_create_entities(
        entity_type_path, entities)

print('Entity created: {}'.format(response))